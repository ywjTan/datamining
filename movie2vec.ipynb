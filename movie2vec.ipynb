{
 "cells": [
  {
   "cell_type": "code",
   "execution_count": 1,
   "metadata": {},
   "outputs": [
    {
     "name": "stderr",
     "output_type": "stream",
     "text": [
      "C:\\Users\\60139\\miniconda3\\lib\\site-packages\\gensim\\similarities\\__init__.py:15: UserWarning: The gensim.similarities.levenshtein submodule is disabled, because the optional Levenshtein package <https://pypi.org/project/python-Levenshtein/> is unavailable. Install Levenhstein (e.g. `pip install python-Levenshtein`) to suppress this warning.\n",
      "  warnings.warn(msg)\n"
     ]
    }
   ],
   "source": [
    "import sys\n",
    "import numpy as np\n",
    "import gensim\n",
    "import pandas as pd\n",
    "from gensim.models.doc2vec import Doc2Vec,TaggedDocument\n",
    "\n",
    "\n",
    "\n"
   ]
  },
  {
   "cell_type": "code",
   "execution_count": 2,
   "metadata": {},
   "outputs": [],
   "source": [
    "movies = pd.read_csv('./data/movie_with_tag.csv')\n",
    "genres=pd.read_csv('./data/genre_id.csv')"
   ]
  },
  {
   "cell_type": "code",
   "execution_count": 3,
   "metadata": {},
   "outputs": [
    {
     "name": "stdout",
     "output_type": "stream",
     "text": [
      "27278\n"
     ]
    }
   ],
   "source": [
    "print(movies.shape[0])"
   ]
  },
  {
   "cell_type": "code",
   "execution_count": 4,
   "metadata": {},
   "outputs": [],
   "source": [
    "movie_list=[]"
   ]
  },
  {
   "cell_type": "code",
   "execution_count": 5,
   "metadata": {},
   "outputs": [],
   "source": [
    "for i in range(movies.shape[0]):\n",
    "    movie_dic = {}\n",
    "    movie_dic['id'] = movies['movieId'][i]\n",
    "    movie_dic['title'] = movies['title'][i]\n",
    "    movie_dic['genres'] = movies['genres'][i]\n",
    "    movie_dic['tags'] = movies['tags'][i]\n",
    "    movie_dic['genre_vector']=[0 for i in range(19)]\n",
    "    movie_list.append(movie_dic)"
   ]
  },
  {
   "cell_type": "code",
   "execution_count": 6,
   "metadata": {},
   "outputs": [],
   "source": [
    "for i in range(len(movie_list)):\n",
    "    movie_list[i]['tags']=movie_list[i]['tags'].split('|')\n",
    "    movie_list[i]['title']=movie_list[i]['title'].split(' ')"
   ]
  },
  {
   "cell_type": "code",
   "execution_count": 7,
   "metadata": {},
   "outputs": [],
   "source": [
    "tag_train = []\n",
    "for item in movie_list:\n",
    "    document = TaggedDocument(item['tags'],tags=[int(item['id'])])\n",
    "    tag_train.append(document)"
   ]
  },
  {
   "cell_type": "code",
   "execution_count": 8,
   "metadata": {},
   "outputs": [],
   "source": [
    "title_train = []\n",
    "for item in movie_list:\n",
    "    document = TaggedDocument(item['title'],tags=[int(item['id'])])\n",
    "    title_train.append(document)"
   ]
  },
  {
   "cell_type": "code",
   "execution_count": 9,
   "metadata": {},
   "outputs": [
    {
     "name": "stdout",
     "output_type": "stream",
     "text": [
      "[0, 0, 0, 0, 0, 0, 0, 0, 0, 0, 0, 0, 0, 0, 0, 0, 0, 0, 0]\n"
     ]
    }
   ],
   "source": [
    "print(movie_list[0]['genre_vector'])"
   ]
  },
  {
   "cell_type": "code",
   "execution_count": 10,
   "metadata": {},
   "outputs": [],
   "source": [
    "genre_dict={}\n",
    "for i in range(genres.shape[0]):\n",
    "    genre_dict[genres['genre'][i]] = i"
   ]
  },
  {
   "cell_type": "code",
   "execution_count": 11,
   "metadata": {},
   "outputs": [
    {
     "name": "stdout",
     "output_type": "stream",
     "text": [
      "{'Sci-Fi': 0, 'Horror': 1, 'Comedy': 2, 'Musical': 3, 'Action': 4, 'Animation': 5, 'Mystery': 6, 'War': 7, 'Romance': 8, 'Film-Noir': 9, 'Adventure': 10, 'Crime': 11, 'Fantasy': 12, 'Children': 13, 'Thriller': 14, 'Drama': 15, 'Western': 16, 'IMAX': 17, 'Documentary': 18}\n"
     ]
    }
   ],
   "source": [
    "print(genre_dict)"
   ]
  },
  {
   "cell_type": "code",
   "execution_count": 12,
   "metadata": {},
   "outputs": [],
   "source": [
    "for i in range(len(movie_list)):\n",
    "    gen_list=movie_list[i]['genres'].split('|')\n",
    "    for item in gen_list:\n",
    "        if genre_dict.__contains__(item):\n",
    "            movie_list[i]['genre_vector'][genre_dict[item]]=1\n",
    "        "
   ]
  },
  {
   "cell_type": "code",
   "execution_count": 13,
   "metadata": {},
   "outputs": [],
   "source": [
    "def train(x_train, size=109):\n",
    "    model = Doc2Vec(x_train,min_count=1,window=3,vector_size=size,sample=1e-3,negative=5,workers=4)\n",
    "    model.train(x_train,total_examples=model.corpus_count,epochs=10)\n",
    "    return model\n"
   ]
  },
  {
   "cell_type": "code",
   "execution_count": 14,
   "metadata": {},
   "outputs": [],
   "source": [
    "model_tag = train(tag_train,84)\n",
    "model_title = train(title_train,25)"
   ]
  },
  {
   "cell_type": "code",
   "execution_count": 16,
   "metadata": {},
   "outputs": [],
   "source": [
    "movieId=[]\n",
    "movieVec=[]\n",
    "for item in movie_list:\n",
    "    movieId.append(item['id'])\n",
    "    tag=item['tags']\n",
    "    title=item['title']\n",
    "    tag_vector = model_tag.infer_vector(doc_words=tag,alpha=0.025,steps=300)\n",
    "    title_vector = model_title.infer_vector(doc_words=title,alpha=0.025,steps=300)\n",
    "    movieVec.append(list(title_vector)+item['genre_vector']+list(tag_vector))"
   ]
  },
  {
   "cell_type": "code",
   "execution_count": 17,
   "metadata": {},
   "outputs": [],
   "source": [
    "dataframe = pd.DataFrame({'movieId': movieId, 'movieVec': movieVec})"
   ]
  },
  {
   "cell_type": "code",
   "execution_count": 18,
   "metadata": {},
   "outputs": [],
   "source": [
    "dataframe.to_csv(\"./movie_vec.csv\", index=False, sep=',')"
   ]
  },
  {
   "cell_type": "code",
   "execution_count": null,
   "metadata": {},
   "outputs": [],
   "source": []
  }
 ],
 "metadata": {
  "kernelspec": {
   "display_name": "Python 3",
   "language": "python",
   "name": "python3"
  },
  "language_info": {
   "codemirror_mode": {
    "name": "ipython",
    "version": 3
   },
   "file_extension": ".py",
   "mimetype": "text/x-python",
   "name": "python",
   "nbconvert_exporter": "python",
   "pygments_lexer": "ipython3",
   "version": "3.8.3"
  }
 },
 "nbformat": 4,
 "nbformat_minor": 4
}
